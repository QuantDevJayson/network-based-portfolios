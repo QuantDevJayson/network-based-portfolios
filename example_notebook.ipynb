{
 "cells": [
  {
   "cell_type": "markdown",
   "id": "94e86b2d",
   "metadata": {},
   "source": [
    "# Network-Based Portfolio Research\n",
    "\n",
    "This notebook demonstrates how to use the platform modules for network-based portfolio construction and analysis."
   ]
  },
  {
   "cell_type": "code",
   "execution_count": null,
   "id": "448e01bf",
   "metadata": {},
   "outputs": [],
   "source": [
    "from modules.data import GLOBAL_INDICES, get_price_data\n",
    "from modules.network import correlation_matrix, build_network, mst_network, hierarchical_clustering\n",
    "from modules.portfolio import hrp_weights\n",
    "from modules.analytics import performance_metrics\n",
    "import pandas as pd\n",
    "\n",
    "# Select assets\n",
    "tickers = GLOBAL_INDICES['US'][:5]\n",
    "prices = get_price_data(tickers, '2015-01-01', '2025-07-31')\n",
    "\n",
    "# Correlation matrix\n",
    "corr = correlation_matrix(prices)\n",
    "print(corr)\n",
    "\n",
    "# Build network\n",
    "G = build_network(corr, threshold=0.5)\n",
    "print(G.edges(data=True))\n",
    "\n",
    "# MST\n",
    "mst = mst_network(corr)\n",
    "print(mst.edges(data=True))\n",
    "\n",
    "# Hierarchical clustering\n",
    "Z = hierarchical_clustering(prices)\n",
    "print(Z)\n",
    "\n",
    "# HRP portfolio\n",
    "weights, cluster_map = hrp_weights(prices)\n",
    "print('Weights:', weights)\n",
    "print('Clusters:', cluster_map)\n",
    "\n",
    "# Performance\n",
    "returns = (prices.pct_change().dropna() * weights).sum(axis=1)\n",
    "metrics = performance_metrics(returns)\n",
    "print(metrics)"
   ]
  }
 ],
 "metadata": {
  "language_info": {
   "name": "python"
  }
 },
 "nbformat": 4,
 "nbformat_minor": 5
}
